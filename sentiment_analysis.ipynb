{
 "cells": [
  {
   "cell_type": "code",
   "execution_count": 1,
   "metadata": {},
   "outputs": [
    {
     "name": "stdout",
     "output_type": "stream",
     "text": [
      "finished 0/183806\n",
      "finished 10000/183806\n"
     ]
    }
   ],
   "source": [
    "from nltk.sentiment.vader import SentimentIntensityAnalyzer\n",
    "\n",
    "def nltkSentiment(sentence):\n",
    "    sid = SentimentIntensityAnalyzer()\n",
    "    senti = sid.polarity_scores(sentence)  \n",
    "    return senti['neg'], senti['pos']\n",
    "\n",
    "import pandas as pd\n",
    "tweets_by_topic_csv_path = \"./output/2023-05-17-15-33-14_tweets_by_topic.csv\"\n",
    "data = pd.read_csv(tweets_by_topic_csv_path)\n",
    "\n",
    "num_topic = 20\n",
    "\n",
    "import numpy as np\n",
    "total_neg = np.zeros(num_topic)\n",
    "total_pos = np.zeros(num_topic)\n",
    "\n",
    "i = 0\n",
    "for index, row in data.iterrows():\n",
    "    if i % 10000 == 0:\n",
    "        print(f\"finished {i}/{data.shape[0]}\")\n",
    "    topic_id_str = row[\"topic\"]\n",
    "    if len(topic_id_str) == 6:\n",
    "        topic_id = int(topic_id_str[-1])\n",
    "    else:\n",
    "        topic_id = int(topic_id_str[-2:])\n",
    "        \n",
    "    sentence = row['tweet']\n",
    "    \n",
    "    neg, pos = nltkSentiment(sentence)\n",
    "    if neg > pos:\n",
    "        total_neg[topic_id] += 1\n",
    "    else:\n",
    "        total_pos[topic_id] += 1    \n",
    "    i += 1\n",
    "print(f\"total_neg: {total_neg} \\ntotal_pos: {total_pos}\")\n",
    "\n",
    "ratio = total_pos / (total_pos + total_neg)\n",
    "print(f\"positive ratio: {ratio}\")\n",
    "\n",
    "sentiment_df = pd.DataFrame({'negative': total_neg, 'positive': total_pos, 'sentiment_ratio': ratio})\n",
    "sentiment_df"
   ]
  },
  {
   "cell_type": "code",
   "execution_count": 3,
   "metadata": {},
   "outputs": [],
   "source": [
    "save_sentiment_result_path = 'output/2023-05-17-15-33-14_sentiment_result.csv'\n",
    "sentiment_df.to_csv(save_sentiment_result_path, sep=',', index=False,header=True)"
   ]
  }
 ],
 "metadata": {
  "kernelspec": {
   "display_name": "Python 3.6.13 ('btm': conda)",
   "language": "python",
   "name": "python3"
  },
  "language_info": {
   "codemirror_mode": {
    "name": "ipython",
    "version": 3
   },
   "file_extension": ".py",
   "mimetype": "text/x-python",
   "name": "python",
   "nbconvert_exporter": "python",
   "pygments_lexer": "ipython3",
   "version": "3.6.13"
  },
  "orig_nbformat": 4,
  "vscode": {
   "interpreter": {
    "hash": "ef337ba82591e8ad80352ba8fbdba14af60eec38c8eaf90bf9232c7a9f4fb1af"
   }
  }
 },
 "nbformat": 4,
 "nbformat_minor": 2
}
